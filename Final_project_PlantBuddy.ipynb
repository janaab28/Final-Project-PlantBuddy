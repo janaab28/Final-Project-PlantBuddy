{
  "nbformat": 4,
  "nbformat_minor": 0,
  "metadata": {
    "colab": {
      "provenance": []
    },
    "kernelspec": {
      "name": "python3",
      "display_name": "Python 3"
    },
    "language_info": {
      "name": "python"
    }
  },
  "cells": [
    {
      "cell_type": "markdown",
      "source": [
        "# **Plant Buddy: Smart Plant Identification and Care Assistant**\n"
      ],
      "metadata": {
        "id": "gd5T7zfVTYLb"
      }
    },
    {
      "cell_type": "markdown",
      "source": [
        "Plant Buddy is an intelligent application designed to assist users in identifying various plants and providing them with tailored care instructions. The application utilizes advanced image classification technology to recognize plant species from user-uploaded images or manually entered plant names. It supports multiple languages, offering care instructions in English or Arabic based on user preferences."
      ],
      "metadata": {
        "id": "N2Q7PqFPTfDK"
      }
    },
    {
      "cell_type": "markdown",
      "source": [
        "**Step 1:** Import and install required libraries\n"
      ],
      "metadata": {
        "id": "ECDX-b-UTlpI"
      }
    },
    {
      "cell_type": "code",
      "source": [
        "# Install required libraries\n",
        "!pip install transformers gradio gtts"
      ],
      "metadata": {
        "colab": {
          "base_uri": "https://localhost:8080/"
        },
        "id": "XBid7M4QTl0D",
        "outputId": "d8f62308-a724-43d4-aaaf-485df0b089ef"
      },
      "execution_count": 61,
      "outputs": [
        {
          "output_type": "stream",
          "name": "stdout",
          "text": [
            "Requirement already satisfied: transformers in /usr/local/lib/python3.10/dist-packages (4.44.2)\n",
            "Requirement already satisfied: gradio in /usr/local/lib/python3.10/dist-packages (4.44.1)\n",
            "Requirement already satisfied: gtts in /usr/local/lib/python3.10/dist-packages (2.5.3)\n",
            "Requirement already satisfied: filelock in /usr/local/lib/python3.10/dist-packages (from transformers) (3.16.1)\n",
            "Requirement already satisfied: huggingface-hub<1.0,>=0.23.2 in /usr/local/lib/python3.10/dist-packages (from transformers) (0.24.7)\n",
            "Requirement already satisfied: numpy>=1.17 in /usr/local/lib/python3.10/dist-packages (from transformers) (1.26.4)\n",
            "Requirement already satisfied: packaging>=20.0 in /usr/local/lib/python3.10/dist-packages (from transformers) (24.1)\n",
            "Requirement already satisfied: pyyaml>=5.1 in /usr/local/lib/python3.10/dist-packages (from transformers) (6.0.2)\n",
            "Requirement already satisfied: regex!=2019.12.17 in /usr/local/lib/python3.10/dist-packages (from transformers) (2024.9.11)\n",
            "Requirement already satisfied: requests in /usr/local/lib/python3.10/dist-packages (from transformers) (2.32.3)\n",
            "Requirement already satisfied: safetensors>=0.4.1 in /usr/local/lib/python3.10/dist-packages (from transformers) (0.4.5)\n",
            "Requirement already satisfied: tokenizers<0.20,>=0.19 in /usr/local/lib/python3.10/dist-packages (from transformers) (0.19.1)\n",
            "Requirement already satisfied: tqdm>=4.27 in /usr/local/lib/python3.10/dist-packages (from transformers) (4.66.5)\n",
            "Requirement already satisfied: aiofiles<24.0,>=22.0 in /usr/local/lib/python3.10/dist-packages (from gradio) (23.2.1)\n",
            "Requirement already satisfied: anyio<5.0,>=3.0 in /usr/local/lib/python3.10/dist-packages (from gradio) (3.7.1)\n",
            "Requirement already satisfied: fastapi<1.0 in /usr/local/lib/python3.10/dist-packages (from gradio) (0.115.0)\n",
            "Requirement already satisfied: ffmpy in /usr/local/lib/python3.10/dist-packages (from gradio) (0.4.0)\n",
            "Requirement already satisfied: gradio-client==1.3.0 in /usr/local/lib/python3.10/dist-packages (from gradio) (1.3.0)\n",
            "Requirement already satisfied: httpx>=0.24.1 in /usr/local/lib/python3.10/dist-packages (from gradio) (0.27.2)\n",
            "Requirement already satisfied: importlib-resources<7.0,>=1.3 in /usr/local/lib/python3.10/dist-packages (from gradio) (6.4.5)\n",
            "Requirement already satisfied: jinja2<4.0 in /usr/local/lib/python3.10/dist-packages (from gradio) (3.1.4)\n",
            "Requirement already satisfied: markupsafe~=2.0 in /usr/local/lib/python3.10/dist-packages (from gradio) (2.1.5)\n",
            "Requirement already satisfied: matplotlib~=3.0 in /usr/local/lib/python3.10/dist-packages (from gradio) (3.7.1)\n",
            "Requirement already satisfied: orjson~=3.0 in /usr/local/lib/python3.10/dist-packages (from gradio) (3.10.7)\n",
            "Requirement already satisfied: pandas<3.0,>=1.0 in /usr/local/lib/python3.10/dist-packages (from gradio) (2.2.2)\n",
            "Requirement already satisfied: pillow<11.0,>=8.0 in /usr/local/lib/python3.10/dist-packages (from gradio) (10.4.0)\n",
            "Requirement already satisfied: pydantic>=2.0 in /usr/local/lib/python3.10/dist-packages (from gradio) (2.9.2)\n",
            "Requirement already satisfied: pydub in /usr/local/lib/python3.10/dist-packages (from gradio) (0.25.1)\n",
            "Requirement already satisfied: python-multipart>=0.0.9 in /usr/local/lib/python3.10/dist-packages (from gradio) (0.0.12)\n",
            "Requirement already satisfied: ruff>=0.2.2 in /usr/local/lib/python3.10/dist-packages (from gradio) (0.6.8)\n",
            "Requirement already satisfied: semantic-version~=2.0 in /usr/local/lib/python3.10/dist-packages (from gradio) (2.10.0)\n",
            "Requirement already satisfied: tomlkit==0.12.0 in /usr/local/lib/python3.10/dist-packages (from gradio) (0.12.0)\n",
            "Requirement already satisfied: typer<1.0,>=0.12 in /usr/local/lib/python3.10/dist-packages (from gradio) (0.12.5)\n",
            "Requirement already satisfied: typing-extensions~=4.0 in /usr/local/lib/python3.10/dist-packages (from gradio) (4.12.2)\n",
            "Requirement already satisfied: urllib3~=2.0 in /usr/local/lib/python3.10/dist-packages (from gradio) (2.2.3)\n",
            "Requirement already satisfied: uvicorn>=0.14.0 in /usr/local/lib/python3.10/dist-packages (from gradio) (0.31.0)\n",
            "Requirement already satisfied: fsspec in /usr/local/lib/python3.10/dist-packages (from gradio-client==1.3.0->gradio) (2024.6.1)\n",
            "Requirement already satisfied: websockets<13.0,>=10.0 in /usr/local/lib/python3.10/dist-packages (from gradio-client==1.3.0->gradio) (12.0)\n",
            "Requirement already satisfied: click<8.2,>=7.1 in /usr/local/lib/python3.10/dist-packages (from gtts) (8.1.7)\n",
            "Requirement already satisfied: idna>=2.8 in /usr/local/lib/python3.10/dist-packages (from anyio<5.0,>=3.0->gradio) (3.10)\n",
            "Requirement already satisfied: sniffio>=1.1 in /usr/local/lib/python3.10/dist-packages (from anyio<5.0,>=3.0->gradio) (1.3.1)\n",
            "Requirement already satisfied: exceptiongroup in /usr/local/lib/python3.10/dist-packages (from anyio<5.0,>=3.0->gradio) (1.2.2)\n",
            "Requirement already satisfied: starlette<0.39.0,>=0.37.2 in /usr/local/lib/python3.10/dist-packages (from fastapi<1.0->gradio) (0.38.6)\n",
            "Requirement already satisfied: certifi in /usr/local/lib/python3.10/dist-packages (from httpx>=0.24.1->gradio) (2024.8.30)\n",
            "Requirement already satisfied: httpcore==1.* in /usr/local/lib/python3.10/dist-packages (from httpx>=0.24.1->gradio) (1.0.6)\n",
            "Requirement already satisfied: h11<0.15,>=0.13 in /usr/local/lib/python3.10/dist-packages (from httpcore==1.*->httpx>=0.24.1->gradio) (0.14.0)\n",
            "Requirement already satisfied: contourpy>=1.0.1 in /usr/local/lib/python3.10/dist-packages (from matplotlib~=3.0->gradio) (1.3.0)\n",
            "Requirement already satisfied: cycler>=0.10 in /usr/local/lib/python3.10/dist-packages (from matplotlib~=3.0->gradio) (0.12.1)\n",
            "Requirement already satisfied: fonttools>=4.22.0 in /usr/local/lib/python3.10/dist-packages (from matplotlib~=3.0->gradio) (4.54.1)\n",
            "Requirement already satisfied: kiwisolver>=1.0.1 in /usr/local/lib/python3.10/dist-packages (from matplotlib~=3.0->gradio) (1.4.7)\n",
            "Requirement already satisfied: pyparsing>=2.3.1 in /usr/local/lib/python3.10/dist-packages (from matplotlib~=3.0->gradio) (3.1.4)\n",
            "Requirement already satisfied: python-dateutil>=2.7 in /usr/local/lib/python3.10/dist-packages (from matplotlib~=3.0->gradio) (2.8.2)\n",
            "Requirement already satisfied: pytz>=2020.1 in /usr/local/lib/python3.10/dist-packages (from pandas<3.0,>=1.0->gradio) (2024.2)\n",
            "Requirement already satisfied: tzdata>=2022.7 in /usr/local/lib/python3.10/dist-packages (from pandas<3.0,>=1.0->gradio) (2024.2)\n",
            "Requirement already satisfied: annotated-types>=0.6.0 in /usr/local/lib/python3.10/dist-packages (from pydantic>=2.0->gradio) (0.7.0)\n",
            "Requirement already satisfied: pydantic-core==2.23.4 in /usr/local/lib/python3.10/dist-packages (from pydantic>=2.0->gradio) (2.23.4)\n",
            "Requirement already satisfied: charset-normalizer<4,>=2 in /usr/local/lib/python3.10/dist-packages (from requests->transformers) (3.3.2)\n",
            "Requirement already satisfied: shellingham>=1.3.0 in /usr/local/lib/python3.10/dist-packages (from typer<1.0,>=0.12->gradio) (1.5.4)\n",
            "Requirement already satisfied: rich>=10.11.0 in /usr/local/lib/python3.10/dist-packages (from typer<1.0,>=0.12->gradio) (13.8.1)\n",
            "Requirement already satisfied: six>=1.5 in /usr/local/lib/python3.10/dist-packages (from python-dateutil>=2.7->matplotlib~=3.0->gradio) (1.16.0)\n",
            "Requirement already satisfied: markdown-it-py>=2.2.0 in /usr/local/lib/python3.10/dist-packages (from rich>=10.11.0->typer<1.0,>=0.12->gradio) (3.0.0)\n",
            "Requirement already satisfied: pygments<3.0.0,>=2.13.0 in /usr/local/lib/python3.10/dist-packages (from rich>=10.11.0->typer<1.0,>=0.12->gradio) (2.18.0)\n",
            "Requirement already satisfied: mdurl~=0.1 in /usr/local/lib/python3.10/dist-packages (from markdown-it-py>=2.2.0->rich>=10.11.0->typer<1.0,>=0.12->gradio) (0.1.2)\n"
          ]
        }
      ]
    },
    {
      "cell_type": "code",
      "source": [
        "# Import required libraries\n",
        "import requests\n",
        "from PIL import Image\n",
        "from io import BytesIO\n",
        "from transformers import pipeline\n",
        "import gradio as gr\n",
        "import torch\n",
        "from gtts import gTTS\n",
        "import IPython.display as ipd"
      ],
      "metadata": {
        "id": "1il9p2IoUSAW"
      },
      "execution_count": 62,
      "outputs": []
    },
    {
      "cell_type": "markdown",
      "source": [
        "**Step 2:** translation"
      ],
      "metadata": {
        "id": "UltYeNWBUSzu"
      }
    },
    {
      "cell_type": "code",
      "source": [
        "device = \"cuda\" if torch.cuda.is_available() else \"cpu\"\n",
        "translator_ar_to_en = pipeline(\"translation_ar_to_en\", model=\"Helsinki-NLP/opus-mt-ar-en\", device=0 if device == \"cuda\" else -1)\n",
        "translator_en_to_ar = pipeline(\"translation_en_to_arabic\", model=\"Helsinki-NLP/opus-mt-en-ar\", device=0 if device == \"cuda\" else -1)"
      ],
      "metadata": {
        "colab": {
          "base_uri": "https://localhost:8080/"
        },
        "id": "1nZUbmXPUkoI",
        "outputId": "f3630c05-3dae-432f-c503-bd1885a7c9dd"
      },
      "execution_count": 63,
      "outputs": [
        {
          "output_type": "stream",
          "name": "stderr",
          "text": [
            "/usr/local/lib/python3.10/dist-packages/transformers/models/marian/tokenization_marian.py:175: UserWarning: Recommended: pip install sacremoses.\n",
            "  warnings.warn(\"Recommended: pip install sacremoses.\")\n",
            "/usr/local/lib/python3.10/dist-packages/transformers/tokenization_utils_base.py:1601: FutureWarning: `clean_up_tokenization_spaces` was not set. It will be set to `True` by default. This behavior will be depracted in transformers v4.45, and will be then set to `False` by default. For more details check this issue: https://github.com/huggingface/transformers/issues/31884\n",
            "  warnings.warn(\n"
          ]
        }
      ]
    },
    {
      "cell_type": "markdown",
      "source": [
        "**Step 3:** plant identification pipeline"
      ],
      "metadata": {
        "id": "DccSxNJiUo0n"
      }
    },
    {
      "cell_type": "code",
      "source": [
        "# Load the plant identification pipeline from Hugging Face\n",
        "pipe = pipeline(\"image-classification\", model=\"umutbozdag/plant-identity\")"
      ],
      "metadata": {
        "colab": {
          "base_uri": "https://localhost:8080/"
        },
        "id": "DK2hd9lwUuCZ",
        "outputId": "5e550571-429c-4fcc-d146-1407e1946ccc"
      },
      "execution_count": 64,
      "outputs": [
        {
          "output_type": "stream",
          "name": "stderr",
          "text": [
            "/usr/local/lib/python3.10/dist-packages/transformers/models/vit/feature_extraction_vit.py:28: FutureWarning: The class ViTFeatureExtractor is deprecated and will be removed in version 5 of Transformers. Please use ViTImageProcessor instead.\n",
            "  warnings.warn(\n"
          ]
        }
      ]
    },
    {
      "cell_type": "markdown",
      "source": [
        "**Step 4:**  dictionary"
      ],
      "metadata": {
        "id": "vFZpdk81UxjB"
      }
    },
    {
      "cell_type": "code",
      "source": [
        "plant_care_dict = {\n",
        "    \"Aloe Vera\": \"Water every 2-3 weeks, allowing the soil to dry out between waterings. Place in bright, indirect sunlight.\",\n",
        "    \"Bamboo\": \"Keep the soil moist but not soggy. Place in indirect sunlight, and avoid direct exposure to sunlight.\",\n",
        "    \"Basil\": \"Water regularly to keep the soil moist. Place in full sun for at least 6 hours a day.\",\n",
        "    \"Boston fern\": \"Water regularly to maintain humidity. Mist the leaves often and keep in indirect sunlight.\",\n",
        "    \"English ivy\": \"Water when the top inch of soil is dry. Place in moderate sunlight and maintain humidity.\",\n",
        "    \"Ficus\": \"Water when the top inch of soil is dry. Place in bright, indirect light, and rotate the plant occasionally.\",\n",
        "    \"Fiddle leaf fig\": \"Water when the top inch of soil is dry. Place in bright, indirect light, and avoid drafts.\",\n",
        "    \"Lavender\": \"Water when the soil is dry to the touch. Place in full sun and ensure good drainage.\",\n",
        "    \"Mint\": \"Water regularly to keep the soil moist. Place in partial shade, and pinch back to encourage bushiness.\",\n",
        "    \"Monstera deliciosa\": \"Water when the top inch of soil is dry. Place in indirect sunlight and provide support for climbing.\",\n",
        "    \"Orchids\": \"Water every 1-2 weeks. Provide humidity and place in indirect light.\",\n",
        "    \"Peace Lily\": \"Water when the top inch of soil is dry. Place in low light and keep out of direct sunlight.\",\n",
        "    \"Philodendron\": \"Water when the top inch of soil is dry. Place in indirect sunlight, and prune as needed.\",\n",
        "    \"Pothos\": \"Water when the top inch of soil is dry. Tolerates low light but grows best in bright, indirect light.\",\n",
        "    \"Rosemary\": \"Water when the top inch of soil is dry. Place in full sun and ensure good drainage.\",\n",
        "    \"Rubber plant\": \"Water when the top inch of soil is dry. Place in bright, indirect light, and dust leaves regularly.\",\n",
        "    \"Snake plant\": \"Water every 2-6 weeks, depending on light conditions. Place in low to bright indirect light.\",\n",
        "    \"Spider plant\": \"Water when the top inch of soil is dry. Place in bright, indirect light, and avoid soggy soil.\",\n",
        "    \"Succulents\": \"Water every 1-3 weeks, allowing the soil to dry completely between waterings. Place in bright sunlight.\",\n",
        "    \"ZZ plant\": \"Water when the soil is completely dry, usually every 2-3 weeks. Tolerates low light conditions.\",\n",
        "    \"Jasmine\": \"Water when the top inch of soil is dry. Place in full sun and prune regularly to encourage growth.\",\n",
        "    \"Rose\": \"Water regularly, keeping the soil moist but not soggy. Place in full sun and fertilize during the growing season.\",\n",
        "    \"Chamomile\": \"Water when the top inch of soil is dry. Place in full sun, and harvest flowers regularly.\",\n",
        "    \"Marigold\": \"Water regularly, especially in dry conditions. Place in full sun and deadhead flowers to promote blooming.\",\n",
        "    \"Daffodil\": \"Water when the soil is dry to the touch. Place in full sun and avoid overwatering.\",\n",
        "    \"Geranium\": \"Water when the top inch of soil is dry. Place in full sun and pinch back to promote bushiness.\",\n",
        "    \"Thyme\": \"Water when the soil is dry. Place in full sun and ensure good drainage.\",\n",
        "    \"Coriander\": \"Water regularly to keep the soil moist. Place in full sun and harvest leaves often.\",\n",
        "    \"Lemon Balm\": \"Water when the soil is dry. Place in full sun and prune regularly to encourage growth.\",\n",
        "    \"Sage\": \"Water when the soil is dry. Place in full sun and provide well-drained soil.\",\n",
        "    \"Peppermint\": \"Water regularly to keep the soil moist. Place in partial shade and pinch back to promote bushiness.\",\n",
        "    \"Bougainvillea\": \"Water when the soil is dry. Place in full sun and prune regularly to encourage flowering.\",\n",
        "    \"Desert Rose\": \"Water when the soil is dry. Place in full sun and ensure good drainage.\",\n",
        "    \"Palm Tree\": \"Water when the top inch of soil is dry. Place in bright sunlight and provide adequate space for growth.\",\n",
        "    \"Oleander\": \"Water when the top inch of soil is dry. Place in full sun and fertilize regularly.\",\n",
        "    \"Cactus\": \"Water every few weeks, allowing the soil to dry completely between waterings. Place in bright sunlight.\"\n",
        "}\n"
      ],
      "metadata": {
        "id": "tUGrDEAVU2po"
      },
      "execution_count": 65,
      "outputs": []
    },
    {
      "cell_type": "code",
      "source": [
        "# Plant facts dictionary\n",
        "plant_facts_dict = {\n",
        "    \"Aloe Vera\": \"Aloe Vera is known for its soothing properties and is commonly used in skincare products. It thrives in bright, indirect sunlight.\",\n",
        "    \"Bamboo\": \"Bamboo is one of the fastest-growing plants in the world. It prefers moist soil and indirect sunlight.\",\n",
        "    \"Basil\": \"Basil is a fragrant herb that is often used in cooking. It needs plenty of sunlight and regular watering to thrive.\",\n",
        "    \"Boston fern\": \"Boston ferns are popular houseplants known for their lush, green fronds. They prefer high humidity and indirect sunlight.\",\n",
        "    \"English ivy\": \"English ivy is a climbing plant that can adapt to various conditions. It likes well-drained soil and moderate sunlight.\",\n",
        "    \"Ficus\": \"Ficus plants are versatile and can be grown indoors or outdoors. They prefer bright, indirect light and moderate watering.\",\n",
        "    \"Fiddle leaf fig\": \"Fiddle leaf figs are known for their large, glossy leaves. They thrive in bright, indirect light and require regular watering.\",\n",
        "    \"Lavender\": \"Lavender is a fragrant herb often used in aromatherapy. It prefers full sun and well-drained soil.\",\n",
        "    \"Mint\": \"Mint is a fast-growing herb that can easily spread. It prefers partial shade and moist soil.\",\n",
        "    \"Monstera deliciosa\": \"Monstera is known for its unique leaf holes. It thrives in indirect sunlight and requires regular watering.\",\n",
        "    \"Orchids\": \"Orchids are exotic flowers that require special care. They prefer indirect light and humidity.\",\n",
        "    \"Peace Lily\": \"Peace Lilies are known for their elegant white flowers. They thrive in low light and require regular watering.\",\n",
        "    \"Philodendron\": \"Philodendrons are popular houseplants with heart-shaped leaves. They prefer indirect sunlight and moderate watering.\",\n",
        "    \"Pothos\": \"Pothos are resilient plants that can survive in low light. They prefer to dry out between waterings.\",\n",
        "    \"Rosemary\": \"Rosemary is an aromatic herb that is commonly used in cooking. It prefers full sun and well-drained soil.\",\n",
        "    \"Rubber plant\": \"Rubber plants are known for their large, glossy leaves. They thrive in bright, indirect light and moderate watering.\",\n",
        "    \"Snake plant\": \"Snake plants are hardy and can tolerate low light. They require infrequent watering.\",\n",
        "    \"Spider plant\": \"Spider plants are known for their air-purifying properties. They prefer bright, indirect light and regular watering.\",\n",
        "    \"Succulents\": \"Succulents are drought-tolerant plants that store water in their leaves. They prefer bright sunlight and well-drained soil.\",\n",
        "    \"ZZ plant\": \"ZZ plants are known for their glossy leaves and resilience. They thrive in low light and require infrequent watering.\",\n",
        "    \"Jasmine\": \"Jasmine is a fragrant flower often used in perfumes. It prefers full sun and well-drained soil.\",\n",
        "    \"Rose\": \"Roses are popular garden plants known for their beautiful flowers. They prefer full sun and regular watering.\",\n",
        "    \"Chamomile\": \"Chamomile is an aromatic herb used in teas. It prefers full sun and well-drained soil.\",\n",
        "    \"Marigold\": \"Marigolds are bright flowers that repel pests. They thrive in full sun and require regular watering.\",\n",
        "    \"Daffodil\": \"Daffodils are spring flowers known for their trumpet shape. They prefer well-drained soil and full sun.\",\n",
        "    \"Geranium\": \"Geraniums are popular bedding plants. They prefer full sun and regular watering.\",\n",
        "    \"Thyme\": \"Thyme is an aromatic herb commonly used in cooking. It prefers full sun and well-drained soil.\",\n",
        "    \"Coriander\": \"Coriander is an herb known for its distinct flavor. It prefers full sun and well-drained soil.\",\n",
        "    \"Lemon Balm\": \"Lemon balm is a fragrant herb often used in teas. It prefers full sun and regular watering.\",\n",
        "    \"Sage\": \"Sage is a hardy herb commonly used in cooking. It prefers full sun and well-drained soil.\",\n",
        "    \"Peppermint\": \"Peppermint is a popular herb known for its refreshing flavor. It prefers partial shade and moist soil.\",\n",
        "    \"Bougainvillea\": \"Bougainvillea is a colorful flowering plant. It prefers full sun and well-drained soil.\",\n",
        "    \"Desert Rose\": \"Desert roses are succulent plants known for their beautiful flowers. They prefer full sun and well-drained soil.\",\n",
        "    \"Palm Tree\": \"Palm trees are iconic tropical plants. They prefer bright sunlight and well-drained soil.\",\n",
        "    \"Oleander\": \"Oleander is a hardy shrub known for its flowers. It prefers full sun and well-drained soil.\",\n",
        "    \"Cactus\": \"Cacti are drought-resistant plants that thrive in dry conditions. They prefer bright sunlight and minimal watering.\"\n",
        "}\n"
      ],
      "metadata": {
        "id": "Y4gbySGCU-fh"
      },
      "execution_count": 66,
      "outputs": []
    },
    {
      "cell_type": "code",
      "source": [
        "plant_name_translations = {\n",
        "    \"Aloe Vera\": \"Aloe Vera - صبار الألوفيرا\",\n",
        "    \"Bamboo\": \"Bamboo - الخيزران\",\n",
        "    \"Basil\": \"Basil - الريحان\",\n",
        "    \"Boston fern\": \"Boston Fern - سرخس بوسطن\",\n",
        "    \"English ivy\": \"English Ivy - اللبلاب الإنجليزي\",\n",
        "    \"Ficus\": \"Ficus - نبات الفيكس\",\n",
        "    \"Fiddle leaf fig\": \"Fiddle Leaf Fig - التين ورقي الكمان\",\n",
        "    \"Lavender\": \"Lavender - الخزامى\",\n",
        "    \"Mint\": \"Mint - النعناع\",\n",
        "    \"Monstera deliciosa\": \"Monstera Deliciosa - مونستيرا دليسيوسا\",\n",
        "    \"Orchids\": \"Orchids - الأوركيد\",\n",
        "    \"Peace Lily\": \"Peace Lily - زنبق السلام\",\n",
        "    \"Philodendron\": \"Philodendron - الفيلوديندرون\",\n",
        "    \"Pothos\": \"Pothos - البوتس\",\n",
        "    \"Rosemary\": \"Rosemary - إكليل الجبل\",\n",
        "    \"Rubber plant\": \"Rubber Plant - نبات المطاط\",\n",
        "    \"Snake plant\": \"Snake Plant - نبات الثعبان\",\n",
        "    \"Spider plant\": \"Spider Plant - نبات العنكبوت\",\n",
        "    \"Succulents\": \"Succulents - النباتات العصارية\",\n",
        "    \"ZZ plant\": \"ZZ Plant - نبات زيزي\",\n",
        "    \"Jasmine\": \"Jasmine - الياسمين\",\n",
        "    \"Rose\": \"Rose - الورد\",\n",
        "    \"Chamomile\": \"Chamomile - البابونج\",\n",
        "    \"Marigold\": \"Marigold - القطيفة\",\n",
        "    \"Daffodil\": \"Daffodil - النرجس\",\n",
        "    \"Geranium\": \"Geranium - إبرة الراعي\",\n",
        "    \"Thyme\": \"Thyme - الزعتر\",\n",
        "    \"Coriander\": \"Coriander - الكزبرة\",\n",
        "    \"Lemon Balm\": \"Lemon Balm - بلسم الليمون\",\n",
        "    \"Sage\": \"Sage - الميرمية\",\n",
        "    \"Peppermint\": \"Peppermint - النعناع الفلفلي\",\n",
        "    \"Bougainvillea\": \"Bougainvillea - الجهنمية\",\n",
        "    \"Desert Rose\": \"Desert Rose - وردة الصحراء\",\n",
        "    \"Palm Tree\": \"Palm Tree - النخيل\",\n",
        "    \"Oleander\": \"Oleander - دفلى\",\n",
        "    \"Cactus\": \"Cactus - الصبار\"}"
      ],
      "metadata": {
        "id": "M1gophy3ff3u"
      },
      "execution_count": 67,
      "outputs": []
    },
    {
      "cell_type": "markdown",
      "source": [
        "\n",
        "\n",
        "**Step 5:** classify the plant image"
      ],
      "metadata": {
        "id": "4uqsegYUVEM9"
      }
    },
    {
      "cell_type": "code",
      "source": [
        "def classify_plant_image(image):\n",
        "    image.save('temp_image.jpg')  # Save the image locally for pipeline processing\n",
        "    predictions = pipe('temp_image.jpg')\n",
        "    top_prediction = predictions[0]  # Get the top prediction\n",
        "    return top_prediction['label']"
      ],
      "metadata": {
        "id": "MTj4Hw96VHRv"
      },
      "execution_count": 68,
      "outputs": []
    },
    {
      "cell_type": "markdown",
      "source": [
        "**Step 6:** convert text to speech"
      ],
      "metadata": {
        "id": "fnH9TlBAVO_c"
      }
    },
    {
      "cell_type": "code",
      "source": [
        "def text_to_speech(instructions, language='en'):\n",
        "    tts = gTTS(text=instructions, lang=language)\n",
        "    tts.save('temp_audio.mp3')  # Save the audio file\n",
        "    return 'temp_audio.mp3'"
      ],
      "metadata": {
        "id": "i57Ie_ijVUK8"
      },
      "execution_count": 69,
      "outputs": []
    },
    {
      "cell_type": "markdown",
      "source": [
        "**Step 7:**  Main processing functions"
      ],
      "metadata": {
        "id": "IAhCpr-sVcCy"
      }
    },
    {
      "cell_type": "code",
      "source": [
        "def process_image_input(image=None, language='english'):\n",
        "    plant_name = classify_plant_image(image)  # Identify plant from image\n",
        "\n",
        "    # Debugging: Log the identified plant name\n",
        "    print(f\"Identified Plant Name: {plant_name}\")\n",
        "\n",
        "    # Get care instructions in English\n",
        "    care_instructions = plant_care_dict.get(plant_name, f\"Care instructions are not available for '{plant_name}'.\")\n",
        "    plant_fact = plant_facts_dict.get(plant_name, f\"Facts are not available for '{plant_name}'.\")\n",
        "\n",
        "    # Translate care instructions and facts to Arabic\n",
        "    if language == 'arabic':\n",
        "        care_instructions = translator_en_to_ar(care_instructions)[0]['translation_text']\n",
        "        plant_fact = translator_en_to_ar(plant_fact)[0]['translation_text']\n",
        "        plant_name = plant_name_translations.get(plant_name, plant_name)  # Translate plant name to Arabic\n",
        "\n",
        "    # Generate audio for the facts\n",
        "    audio_file = text_to_speech(plant_fact, language='ar' if language == 'arabic' else 'en')\n",
        "\n",
        "    return plant_name, care_instructions, audio_file\n",
        "\n",
        "# Main processing function for text input\n",
        "def process_text_input(plant_name=None, language='english'):\n",
        "    if plant_name:\n",
        "        # Debugging: Log the requested plant name\n",
        "        print(f\"Requested Plant Name: {plant_name}\")\n",
        "\n",
        "        # Get care instructions in English\n",
        "        care_instructions = plant_care_dict.get(plant_name, f\"Care instructions are not available for '{plant_name}'.\")\n",
        "        plant_fact = plant_facts_dict.get(plant_name, f\"Facts are not available for '{plant_name}'.\")\n",
        "\n",
        "        # Translate care instructions and facts to Arabic\n",
        "        if language == 'arabic':\n",
        "            care_instructions = translator_en_to_ar(care_instructions)[0]['translation_text']\n",
        "            plant_fact = translator_en_to_ar(plant_fact)[0]['translation_text']\n",
        "            plant_name = plant_name_translations.get(plant_name, plant_name)  # Translate plant name to Arabic\n",
        "\n",
        "        # Generate audio for the facts\n",
        "        audio_file = text_to_speech(plant_fact, language='ar' if language == 'arabic' else 'en')\n",
        "\n",
        "        return plant_name, care_instructions, audio_file\n",
        "\n"
      ],
      "metadata": {
        "id": "TzEv27zHejoN"
      },
      "execution_count": 70,
      "outputs": []
    },
    {
      "cell_type": "markdown",
      "source": [
        "**Step 8:** Gradio app"
      ],
      "metadata": {
        "id": "PAjqyObgWCHg"
      }
    },
    {
      "cell_type": "code",
      "source": [
        "# Creating Gradio app with tabs\n",
        "with gr.Blocks() as demo:\n",
        "    gr.Markdown(\"## Plant Identification and Care Instructions\")\n",
        "\n",
        "    with gr.Tab(\"Image Input\"):\n",
        "        gr.Interface(\n",
        "            fn=process_image_input,\n",
        "            inputs=[\n",
        "                gr.Image(type=\"pil\", label=\"Upload a Plant Image\"),  # Image input\n",
        "                gr.Dropdown(choices=[\"english\", \"arabic\"], label=\"Select Language\", value=\"english\")  # Language selection\n",
        "            ],\n",
        "            outputs=[\n",
        "                gr.Textbox(label=\"Identified Plant\"),\n",
        "                gr.Textbox(label=\"Care Instructions\"),\n",
        "                gr.Audio(label=\"Audio Fact\")  # Output audio file\n",
        "            ],\n",
        "            title=\"Identify Plant from Image\",\n",
        "            description=\"Upload an image of a plant to identify it and receive care instructions in your chosen language.\"\n",
        "        )\n",
        "\n",
        "    with gr.Tab(\"Text Input\"):\n",
        "        gr.Interface(\n",
        "            fn=process_text_input,\n",
        "            inputs=[\n",
        "                gr.Textbox(label=\"Enter Plant Name\"),  # Text input\n",
        "                gr.Dropdown(choices=[\"english\", \"arabic\"], label=\"Select Language\", value=\"english\")  # Language selection\n",
        "            ],\n",
        "            outputs=[\n",
        "                gr.Textbox(label=\"Identified Plant\"),\n",
        "                gr.Textbox(label=\"Care Instructions\"),\n",
        "                gr.Audio(label=\"Audio Fact\")  # Output audio file\n",
        "            ],\n",
        "            title=\"Identify Plant by Name\",\n",
        "            description=\"Enter the name of a plant to receive care instructions in your chosen language.\"\n",
        "        )\n",
        "\n",
        "# Launch the Gradio app with Tabs\n",
        "demo.launch()"
      ],
      "metadata": {
        "colab": {
          "base_uri": "https://localhost:8080/",
          "height": 625
        },
        "id": "r5keOGeSo5Zt",
        "outputId": "c54b64ac-0f50-43e0-c3c7-39b1dafeb0a3"
      },
      "execution_count": 71,
      "outputs": [
        {
          "output_type": "stream",
          "name": "stdout",
          "text": [
            "Setting queue=True in a Colab notebook requires sharing enabled. Setting `share=True` (you can turn this off by setting `share=False` in `launch()` explicitly).\n",
            "\n",
            "Colab notebook detected. To show errors in colab notebook, set debug=True in launch()\n",
            "Running on public URL: https://b2ecb0851634839c67.gradio.live\n",
            "\n",
            "This share link expires in 72 hours. For free permanent hosting and GPU upgrades, run `gradio deploy` from Terminal to deploy to Spaces (https://huggingface.co/spaces)\n"
          ]
        },
        {
          "output_type": "display_data",
          "data": {
            "text/plain": [
              "<IPython.core.display.HTML object>"
            ],
            "text/html": [
              "<div><iframe src=\"https://b2ecb0851634839c67.gradio.live\" width=\"100%\" height=\"500\" allow=\"autoplay; camera; microphone; clipboard-read; clipboard-write;\" frameborder=\"0\" allowfullscreen></iframe></div>"
            ]
          },
          "metadata": {}
        },
        {
          "output_type": "execute_result",
          "data": {
            "text/plain": []
          },
          "metadata": {},
          "execution_count": 71
        }
      ]
    }
  ]
}